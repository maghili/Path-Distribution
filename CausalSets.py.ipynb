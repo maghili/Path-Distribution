{
 "cells": [
  {
   "cell_type": "code",
   "execution_count": 11,
   "metadata": {},
   "outputs": [],
   "source": [
    "import numpy as np\n",
    "import pandas as pd\n",
    "from sklearn.model_selection import train_test_split\n",
    "from sklearn.linear_model import LogisticRegression\n",
    "from sklearn.ensemble import RandomForestClassifier"
   ]
  },
  {
   "cell_type": "markdown",
   "metadata": {},
   "source": [
    "<h2> Reading some data</h2>\n",
    "The features are:\n",
    "    - Width\n",
    "    - Length at maximum\n",
    "    - Total number of points\n",
    "As suggested in this <a href = 'https://arxiv.org/abs/1805.07312'>paper</a>."
   ]
  },
  {
   "cell_type": "code",
   "execution_count": 12,
   "metadata": {},
   "outputs": [],
   "source": [
    "data1 = np.load('./2-D_Minkowski.npy')\n",
    "data2 = np.load('./3-D_Minkowski.npy')\n",
    "data3 = np.load('./4-D_Minkowski.npy')\n",
    "\n",
    "TwoD = data1.tolist()\n",
    "ThreeD = data2.tolist()\n",
    "FourD = data3.tolist()"
   ]
  },
  {
   "cell_type": "code",
   "execution_count": 13,
   "metadata": {},
   "outputs": [],
   "source": [
    "DataSet1 = pd.DataFrame.from_dict(TwoD)\n",
    "DataSet2 = pd.DataFrame.from_dict(ThreeD)\n",
    "DataSet3 = pd.DataFrame.from_dict(FourD)\n",
    "\n",
    "y = [2]*len(DataSet1)+[3]*len(DataSet2)+[4]*len(DataSet3)\n",
    "X = DataSet1.append(DataSet2).append(DataSet3)"
   ]
  },
  {
   "cell_type": "markdown",
   "metadata": {},
   "source": [
    "<h2> Linear Model</h2>"
   ]
  },
  {
   "cell_type": "code",
   "execution_count": 17,
   "metadata": {},
   "outputs": [
    {
     "name": "stdout",
     "output_type": "stream",
     "text": [
      "1.0\n"
     ]
    }
   ],
   "source": [
    "X_train, X_test, y_train, y_test = train_test_split(X, y, test_size = .2, random_state = 1)\n",
    "\n",
    "clf = LogisticRegression(multi_class = 'ovr')\n",
    "clf.fit(X_train, y_train)\n",
    "print clf.score(X_test, y_test)"
   ]
  },
  {
   "cell_type": "markdown",
   "metadata": {},
   "source": [
    "<h2>Random Forrest</h2>"
   ]
  },
  {
   "cell_type": "code",
   "execution_count": 16,
   "metadata": {},
   "outputs": [
    {
     "name": "stdout",
     "output_type": "stream",
     "text": [
      "0.966666666667\n"
     ]
    }
   ],
   "source": [
    "clf_r = RandomForestClassifier()\n",
    "clf_r.fit(X_train, y_train)\n",
    "print clf_r.score(X_test, y_test)"
   ]
  },
  {
   "cell_type": "code",
   "execution_count": null,
   "metadata": {},
   "outputs": [],
   "source": []
  }
 ],
 "metadata": {
  "kernelspec": {
   "display_name": "Python 2",
   "language": "python",
   "name": "python2"
  },
  "language_info": {
   "codemirror_mode": {
    "name": "ipython",
    "version": 2
   },
   "file_extension": ".py",
   "mimetype": "text/x-python",
   "name": "python",
   "nbconvert_exporter": "python",
   "pygments_lexer": "ipython2",
   "version": "2.7.14"
  }
 },
 "nbformat": 4,
 "nbformat_minor": 2
}
