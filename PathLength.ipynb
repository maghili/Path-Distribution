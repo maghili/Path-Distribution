{
 "cells": [
  {
   "cell_type": "markdown",
   "metadata": {},
   "source": [
    "# Graph Classification"
   ]
  },
  {
   "cell_type": "markdown",
   "metadata": {},
   "source": [
    "## Calling the required packages here"
   ]
  },
  {
   "cell_type": "code",
   "execution_count": 2,
   "metadata": {},
   "outputs": [
    {
     "name": "stderr",
     "output_type": "stream",
     "text": [
      "/anaconda2/lib/python2.7/site-packages/sklearn/ensemble/weight_boosting.py:29: DeprecationWarning: numpy.core.umath_tests is an internal NumPy module and should not be imported. It will be removed in a future NumPy release.\n",
      "  from numpy.core.umath_tests import inner1d\n"
     ]
    }
   ],
   "source": [
    "from matplotlib.pyplot import *\n",
    "from mpl_toolkits.mplot3d import Axes3D\n",
    "import numpy as np\n",
    "import pandas as pd\n",
    "import itertools\n",
    "from scipy import sparse\n",
    "from sklearn.model_selection import train_test_split\n",
    "from sklearn.linear_model import LogisticRegression\n",
    "from sklearn.ensemble import RandomForestClassifier"
   ]
  },
  {
   "cell_type": "markdown",
   "metadata": {},
   "source": [
    "### Creating the graph"
   ]
  },
  {
   "cell_type": "markdown",
   "metadata": {},
   "source": [
    "We investigated the path length distribution in directed graphs and how one can classify them az embeddable or not embeddable in a two-dimesional Lorentzian Manifold, the result obtained for average path length distribution was\n",
    "$$n_k = \\frac{N!}{(N-k+1)!}\\sum_{i=0}^{N-k+1}{N-k+1\\choose i}(-1)^i\\frac{\\Gamma(i+1)}{\\Gamma(i+k)^2}f_{i,k}$$\n",
    "where $N$ is the total number of points, $k$ is the length of the chain, and $\\Gamma$ is the Gamma function.<br>\n",
    "$f_{i,k}$ is a function that satisfies the following recursion relation\n",
    "$$f_{i,k}=\\sum_{j=0}^i\\Gamma(1+i-j)f_{j,k-1}$$\n",
    "and the initial condition for this recurion relation can be formulized as\n",
    "$$f_{i,1}=\\Gamma(i+1).$$"
   ]
  },
  {
   "cell_type": "markdown",
   "metadata": {},
   "source": [
    "To be able to compare the theoretical results with simulations we need to produce some graphs and look at their features and compare their average with the theory. To do so we first introduce some functions."
   ]
  },
  {
   "cell_type": "code",
   "execution_count": 2,
   "metadata": {},
   "outputs": [],
   "source": [
    "#determining if xf is in the future of xp\n",
    "def future(xf,xp,d):\n",
    "    R=np.sqrt(sum([(xf[i]-xp[i])**2 for i in range(1,d)]))\n",
    "    if xp[0]<xf[0] and R< xf[0]-xp[0]:\n",
    "        return 1\n",
    "    else:\n",
    "        return 0\n",
    "#determining if xm is between xp and xf      \n",
    "def condition(xf,xm,xp,d):\n",
    "    if future(xf,xm,d)==1 and future(xm,xp,d)==1:\n",
    "        return 0\n",
    "    else:\n",
    "        return 1\n",
    "#determining if xf and xp are nearest neighbors\n",
    "def empty (xf,xp,L,d):\n",
    "    count=0\n",
    "    for i in range(len(L)):\n",
    "        if condition(xf,L[i],xp,d)==0:\n",
    "            return 0\n",
    "    if count==0:\n",
    "        return 1"
   ]
  },
  {
   "cell_type": "markdown",
   "metadata": {},
   "source": [
    "## 1. Sprinkling Points"
   ]
  },
  {
   "cell_type": "code",
   "execution_count": 3,
   "metadata": {},
   "outputs": [],
   "source": [
    "def sprinkler(N,D):\n",
    "    '''Sprinkling points to create a graph'''\n",
    "    ##################\n",
    "    #D represent the dimension\n",
    "    ###################\n",
    "    #defining the box that the points are being sprinkled in at random.\n",
    "    boxdim=[1]*D\n",
    "    xmin=[0]*D\n",
    "    xmax=[1]+[0]*(D-1)\n",
    "    ###################\n",
    "    points=[xmin]\n",
    "    while len(points)<N+1:\n",
    "        point=[np.random.uniform(0,1)]+[np.random.uniform(-1.0/2,1.0/2) for dim in range(1,D)]#a list of length d of random numbers\n",
    "        if future(xmax,point,D)==1 and future(point,xmin,D)==1:# if it is in the required interval\n",
    "            points.append(point)\n",
    "    points.append(xmax)\n",
    "    return points\n",
    "    ###################"
   ]
  },
  {
   "cell_type": "markdown",
   "metadata": {},
   "source": [
    "The sprinkling needs to be done through a rejection process to be fair and uniform in the intersection of chronological past of pont $q$ and chronological future of $p$. To do so the points that fall in the red shaded region in the figure will be rejected and the points that fall into the green shaded region will be accepted as points in the graph.<br>\n",
    "* A better way to sprinkle is to change the coordinates to sprinkle the points directly in green region with uniform density.(For our purpose the time saved is neglegible and there is no need for such a coordinate transformation, but it is a straight forward task)."
   ]
  },
  {
   "cell_type": "markdown",
   "metadata": {},
   "source": [
    "![rejection](Allowed.png)"
   ]
  },
  {
   "cell_type": "markdown",
   "metadata": {},
   "source": [
    "## 2. Forming the Link matrix"
   ]
  },
  {
   "cell_type": "markdown",
   "metadata": {},
   "source": [
    "A directed graph can be identified with two types of matrices which contain exactly equal amount of information but each are useful for some applications. <strong> Link</strong> matrix and <strong>Relations</strong> matrix. Since we are dealing with path length distribution, we are concerned about the Link matrix.<br>\n",
    "A Link matrix for a graph with $N$ points is an $(N+2)\\times (N+2)$ matrix, with $1$s where there is a direct connection between two points and $0$s everywhere else. Raising Link marix to power $k$, can give us the number of paths of length $k$\n",
    "$$(L^k)_{i,j} = n_k$$"
   ]
  },
  {
   "cell_type": "code",
   "execution_count": 4,
   "metadata": {},
   "outputs": [],
   "source": [
    "def nnfinder(N,D,s):\n",
    "    '''Link and Relations matrix creator'''\n",
    "    ###################\n",
    "    #link=[[0]*(N+2) for i in range(N+2)]\n",
    "    #Relations=[[0]*(N+2) for i in range(N+2)]\n",
    "    #for e1 in range(len(s)):\n",
    "    #    for e2 in range(len(s)):\n",
    "    #        if future(s[e2],s[e1],D)==1:# if s[e2] in the future of s[e1]\n",
    "    #            Relations[e1][e2]=1\n",
    "    #            if empty(s[e2],s[e1],s,D)==1: # if interval s[e1] to s[e2] is empty\n",
    "    #                link[e1][e2]=1\n",
    "    link = [[1 if future(s[e2], s[e1], D)==1 and empty(s[e2], s[e1],s,D) == 1 else 0 \n",
    "              for e2 in range(len(s))]for e1 in range(len(s))]\n",
    "    relations = [[1 if future(s[e2], s[e1], D)==1 else 0 for e2 in range(len(s))]for e1 in range(len(s))]\n",
    "    ##The commented calculation is more beneficiary timewise when both link and relation matrices are required.\n",
    "    return link, relations"
   ]
  },
  {
   "cell_type": "markdown",
   "metadata": {},
   "source": [
    "## 3. Finding the distributions and their features"
   ]
  },
  {
   "cell_type": "markdown",
   "metadata": {},
   "source": [
    "The distribution of pathlength in a directed graph that is embeddable in a manifold, or some of its features can be good measure for defining the manifoldlikeness and classification of graphs."
   ]
  },
  {
   "cell_type": "code",
   "execution_count": 5,
   "metadata": {},
   "outputs": [],
   "source": [
    "def pathfinder(link,N):\n",
    "    '''Distribution Finder'''\n",
    "    ######################\n",
    "    mlinks = sparse.csr_matrix(np.matrix(link), dtype = np.float64)\n",
    "    zero = sparse.csr_matrix(np.zeros((N+2, N+2)), dtype = np.float64)\n",
    "    A = sparse.csr_matrix(np.identity(N+2), dtype = np.float64)\n",
    "    tot = []\n",
    "    for m in range(1, len(link)):\n",
    "        A=A*mlinks\n",
    "        tot.append(A[0,-1])\n",
    "        if (A!=zero).nnz == 0:\n",
    "            break\n",
    "    totpath=sum(tot)\n",
    "    ##################################\n",
    "    #finding the maximum and the width\n",
    "    peak_idx = tot.index(max(tot))\n",
    "    peak = peak_idx+1\n",
    "    half_height = max(tot)/2.0\n",
    "    low = 0; high = 0\n",
    "    for i in range(len(tot)-1):\n",
    "        if tot[i]<=half_height and tot[i+1] > half_height:\n",
    "            low = i+1/2.0\n",
    "        if tot[i+1] <= half_height and tot[i] > half_height:\n",
    "            high = i+1/2.0\n",
    "    half_width = high-low\n",
    "    return peak, half_width, tot"
   ]
  },
  {
   "cell_type": "markdown",
   "metadata": {},
   "source": [
    "The data is now ready to be saved and visualized"
   ]
  },
  {
   "cell_type": "code",
   "execution_count": 6,
   "metadata": {},
   "outputs": [
    {
     "name": "stdout",
     "output_type": "stream",
     "text": [
      "100.00%                                                                                                                                                                                                                                                                                                                                                                                                                                                                                                                                                                                                                                                                                                                                                                                                                                                                                                                                                                                                                                                                                                                                                                                                                                                                                                                                                                                                                                                                                                                                                                                                                                                                                                                                                                                                                                                                     \n"
     ]
    }
   ],
   "source": [
    "nsp=200#number of sprinklings\n",
    "N=[100, 200, 300]#, 400, 500]#, 600, 700, 800, 900, 1000]#values for number of points\n",
    "num=[0]*(nsp*len(N))\n",
    "p=[0]*(nsp*len(N)); avgPeak = []; stdPeak = []\n",
    "w=[0]*(nsp*len(N)); avgWidth = []; stdWidth = []\n",
    "y=[0]*(nsp*len(N));old=[]\n",
    "Data = []; t = []; Rt = []\n",
    "dist = []; diststd = []\n",
    "c=['r','k','b']\n",
    "D=5;cnt = 1\n",
    "for d in range(2,D):\n",
    "    counter=0; lst = [];\n",
    "    for sp in range(nsp):\n",
    "        for n in N:\n",
    "            s=sprinkler(n,d)\n",
    "            link, relations=nnfinder(n,d,s)\n",
    "            [p[counter],w[counter],total]=pathfinder(link,n)\n",
    "            [_p, _w, total_r]=pathfinder(relations, n)\n",
    "            t.append(total+[n]+[d])\n",
    "            Rt.append(total_r+[n]+[d])\n",
    "            Data.append(t)\n",
    "            num[counter]=n\n",
    "            y[counter]=d\n",
    "            counter=counter+1\n",
    "            print '\\r'+'%1.2f%%'%(100/(len(N)*nsp*3.)*(cnt)),\n",
    "            cnt+=1\n",
    "        lst.append(total)\n",
    "        #######################\n",
    "        #saving data\n",
    "    data={'peak':p,'width':w,'N':num}\n",
    "    np.save('%d-D_Minkowski_'%d,data)\n",
    "    ####\n",
    "    #averaging all the sprinklings\n",
    "    Pavgs = []; Pstds = []\n",
    "    Wavgs = []; Wstds = []\n",
    "    for i in range(len(N)):\n",
    "        Pavgs.append(np.average([p[i+j*len(N)] for j in range(nsp)]))\n",
    "        Pstds.append(np.std([p[i+j*len(N)] for j in range(nsp)]))\n",
    "        Wavgs.append(np.average([w[i+j*len(N)] for j in range(nsp)]))\n",
    "        Wstds.append(np.std([w[i+j*len(N)] for j in range(nsp)]))\n",
    "    avgPeak.append(Pavgs); avgWidth.append(Wavgs)\n",
    "    stdPeak.append(Pstds); stdWidth.append(Wstds)\n",
    "            \n",
    "    maxlen = max(map(len, lst))\n",
    "    \n",
    "    avg = [np.average([el[i] if len(el)-1>=i else 0 for el in lst]) for i in range(maxlen)]\n",
    "    std = [np.std([el[i] if len(el)-1>=i else 0 for el in lst]) for i in range(maxlen)]\n",
    "    dist.append(avg)\n",
    "    diststd.append(std)"
   ]
  },
  {
   "cell_type": "code",
   "execution_count": 7,
   "metadata": {},
   "outputs": [],
   "source": [
    "maxlen = max(map(len, t))\n",
    "Distributions = []\n",
    "for distribution in t:\n",
    "    Distributions.append(distribution[: -2]+[0]*(maxlen-len(distribution))+distribution[-2:])\n",
    "np.save('Distributions_', Distributions)\n",
    "maxlen = max(map(len, t))\n",
    "Distributions_r = []\n",
    "for distribution in Rt:\n",
    "    Distributions_r.append(distribution[: -2]+[0]*(maxlen-len(distribution))+distribution[-2:])\n",
    "np.save('Distributions_r_', Distributions_r)\n",
    "r_t = []\n",
    "for i in range(nsp):\n",
    "    r_t.append([(Distributions_r[i][j], Distributions[i][j]) for j in range(maxlen)])\n",
    "np.save('r_t', r_t)"
   ]
  },
  {
   "cell_type": "markdown",
   "metadata": {},
   "source": [
    "We save the half-width, peak position and the total number of points as the features of the distributions."
   ]
  },
  {
   "cell_type": "markdown",
   "metadata": {},
   "source": [
    "## Visualization"
   ]
  },
  {
   "cell_type": "markdown",
   "metadata": {},
   "source": [
    "We can visualize the distributions. We use logarithmic plot because the distributions are very different in different dimensions."
   ]
  },
  {
   "cell_type": "code",
   "execution_count": 8,
   "metadata": {},
   "outputs": [
    {
     "data": {
      "image/png": "[encoded data removed]",
      "text/plain": [
       "<Figure size 576x432 with 1 Axes>"
      ]
     },
     "metadata": {
      "needs_background": "light"
     },
     "output_type": "display_data"
    }
   ],
   "source": [
    "markers = ['o', 'd', 's']; colors = ['tab:blue', 'tab:red', 'tab:green']\n",
    "figure(figsize=(8,6))\n",
    "cnt = 0\n",
    "for distribution in dist:\n",
    "    x = range(1, len(distribution)+1)\n",
    "    semilogy(x, distribution, '--', marker = markers[cnt], c = colors[cnt], mec = 'k', label = '%d-D'%(cnt+2))\n",
    "    cnt+=1\n",
    "grid(linestyle = 'dotted', c = 'k')\n",
    "xlabel('k')\n",
    "ylabel(r'$n_k$')\n",
    "legend(loc =1)\n",
    "show()"
   ]
  },
  {
   "cell_type": "markdown",
   "metadata": {},
   "source": [
    "The distributions in nonlogarithmic plots look a lot like Gaussian (Normal) distribution, which can be characterized with their with and hight (or peak location interchangably).<br>\n",
    "Now we compare these results with the statistical model that we built."
   ]
  },
  {
   "cell_type": "markdown",
   "metadata": {},
   "source": [
    "![distribution](logplot_50p_1000sp.png)"
   ]
  },
  {
   "cell_type": "markdown",
   "metadata": {},
   "source": [
    "As we can see there is a very good agreement between the theoretical model and the simulations even in the logarithmic scale."
   ]
  },
  {
   "cell_type": "markdown",
   "metadata": {},
   "source": [
    "Now let's look at the parameter space that we want to use to classify the graphs. The Peak position and the width of the distribution will be shown as axes for the graph and the number of points will be identified by a color bar."
   ]
  },
  {
   "cell_type": "code",
   "execution_count": 9,
   "metadata": {},
   "outputs": [
    {
     "data": {
      "image/png": "[encoded data removed]",
      "text/plain": [
       "<Figure size 576x432 with 2 Axes>"
      ]
     },
     "metadata": {
      "needs_background": "light"
     },
     "output_type": "display_data"
    }
   ],
   "source": [
    "figure(figsize = (8,6))\n",
    "for i in range(len(avgPeak)):\n",
    "    errorbar(avgPeak[i], avgWidth[i], xerr=stdPeak[i], yerr=stdWidth[i], marker =None,\n",
    "             ls = 'none', ecolor = 'black', elinewidth =1, capsize = 2)\n",
    "    scatter(avgPeak[i], avgWidth[i], edgecolor = 'k', marker = markers[i],c=N, label = '%d-D'%(i+2))\n",
    "xlabel('Peak Position')\n",
    "ylabel('Width')\n",
    "colorbar(ticks = N)\n",
    "legend(loc=2)\n",
    "grid(linestyle = 'dotted', c = 'k')\n",
    "show()"
   ]
  },
  {
   "cell_type": "markdown",
   "metadata": {},
   "source": [
    "# Classification"
   ]
  },
  {
   "cell_type": "markdown",
   "metadata": {},
   "source": [
    "The data is labeled by the dimension and we want to be able to classify the graphs based on the dimensionality of the manifold that they can be embedded on."
   ]
  },
  {
   "cell_type": "markdown",
   "metadata": {},
   "source": [
    "### -Logistic Regression"
   ]
  },
  {
   "cell_type": "code",
   "execution_count": 3,
   "metadata": {},
   "outputs": [
    {
     "name": "stdout",
     "output_type": "stream",
     "text": [
      "1.0\n"
     ]
    }
   ],
   "source": [
    "data1 = np.load('./2-D_Minkowski.npy')\n",
    "data2 = np.load('./3-D_Minkowski.npy')\n",
    "data3 = np.load('./4-D_Minkowski.npy')\n",
    "\n",
    "TwoD = data1.tolist()\n",
    "ThreeD = data2.tolist()\n",
    "FourD = data3.tolist()\n",
    "\n",
    "DataSet1 = pd.DataFrame.from_dict(TwoD)\n",
    "DataSet2 = pd.DataFrame.from_dict(ThreeD)\n",
    "DataSet3 = pd.DataFrame.from_dict(FourD)\n",
    "\n",
    "y = [2]*len(DataSet1)+[3]*len(DataSet2)+[4]*len(DataSet3)\n",
    "X = DataSet1.append(DataSet2).append(DataSet3)\n",
    "\n",
    "X_train, X_test, y_train, y_test = train_test_split(X, y, test_size = .1, random_state = 1)\n",
    "\n",
    "clf = LogisticRegression(multi_class = 'ovr')\n",
    "clf.fit(X_train, y_train)\n",
    "print clf.score(X_test, y_test)"
   ]
  },
  {
   "cell_type": "markdown",
   "metadata": {},
   "source": [
    "### -Random Forest Classifier"
   ]
  },
  {
   "cell_type": "code",
   "execution_count": 4,
   "metadata": {},
   "outputs": [
    {
     "name": "stdout",
     "output_type": "stream",
     "text": [
      "1.0\n"
     ]
    }
   ],
   "source": [
    "clf_r = RandomForestClassifier()\n",
    "clf_r.fit(X_train, y_train)\n",
    "print clf_r.score(X_test, y_test)"
   ]
  },
  {
   "cell_type": "markdown",
   "metadata": {},
   "source": [
    "It is a completely successful parametrization of the graphs, and we see that it is possible to classify them even with a logistic regression method."
   ]
  },
  {
   "cell_type": "markdown",
   "metadata": {},
   "source": [
    "### -Neural Networks/Tensorflow"
   ]
  },
  {
   "cell_type": "markdown",
   "metadata": {},
   "source": [
    "Below is a neural network algorithm, using tensorflow. "
   ]
  },
  {
   "cell_type": "code",
   "execution_count": 5,
   "metadata": {},
   "outputs": [
    {
     "name": "stdout",
     "output_type": "stream",
     "text": [
      " round:500, loss: 102.69                                                                                                                                                                                                                                                              \n",
      " Accuracy: 0.9533333\n"
     ]
    }
   ],
   "source": [
    "import tensorflow as tf\n",
    "\n",
    "n_nodes_l1 = 512\n",
    "n_nodes_l2 = 512\n",
    "n_nodes_l3 = 512\n",
    "\n",
    "n_classes = 3\n",
    "n_variables = len(X_train.iloc[0])\n",
    "\n",
    "y_train_new = [[0]*3 for _ in y_train]\n",
    "for _ in range(len(y_train)):\n",
    "    y_train_new[_][y_train[_]-2] = 1\n",
    "    \n",
    "y_test_new = [[0]*3 for _ in y_test]\n",
    "for _ in range(len(y_test)):\n",
    "    y_test_new[_][y_test[_]-2] = 1\n",
    "\n",
    "x = tf.placeholder('float', [None, n_variables])\n",
    "y = tf.placeholder('float')\n",
    "\n",
    "def nn_model(inpt):\n",
    "    hidden_1_layer = {'weight':tf.Variable(tf.random.normal([n_variables, n_nodes_l1])),\n",
    "                    'biases':tf.Variable(tf.random.normal([n_nodes_l1]))}\n",
    "    hidden_2_layer = {'weight':tf.Variable(tf.random.normal([n_nodes_l1, n_nodes_l2])), \n",
    "                   'biases': tf.Variable(tf.random.normal([n_nodes_l2]))}\n",
    "    hidden_3_layer = {'weight':tf.Variable(tf.random.normal([n_nodes_l2, n_nodes_l3])), \n",
    "                   'biases': tf.Variable(tf.random.normal([n_nodes_l3]))}\n",
    "    output_layer= {'weight': tf.Variable(tf.random.normal([n_nodes_l3, n_classes])), \n",
    "                  'biases':tf.Variable(tf.random.normal([n_classes]))}\n",
    "    \n",
    "    l1 = tf.add(tf.matmul(inpt, hidden_1_layer['weight']), hidden_1_layer['biases'])\n",
    "    l1 = tf.nn.relu(l1)\n",
    "    l2 = tf.add(tf.matmul(l1, hidden_2_layer['weight']), hidden_2_layer['biases'])\n",
    "    l2 = tf.nn.relu(l2)\n",
    "    l3 = tf.add(tf.matmul(l2, hidden_3_layer['weight']), hidden_3_layer['biases'])\n",
    "    l3 = tf.nn.relu(l3)\n",
    "    \n",
    "    output = tf.add(tf.matmul(l3, output_layer['weight']), output_layer['biases'])\n",
    "    \n",
    "    return output\n",
    "\n",
    "def training_nn(x):\n",
    "    prediction = nn_model(x)\n",
    "    cost = tf.reduce_mean(tf.nn.softmax_cross_entropy_with_logits_v2(logits = prediction, labels = y))\n",
    "    Optimizer = tf.train.AdamOptimizer(learning_rate = .0001).minimize(cost)\n",
    "    \n",
    "    epochs = 500\n",
    "    \n",
    "    with tf.Session() as sess:\n",
    "        #sess.run(tf.initialize_all_variables())\n",
    "        sess.run(tf.global_variables_initializer())\n",
    "        for epoch in range(epochs):\n",
    "            epoch_loss = 0\n",
    "            _, c = sess.run([Optimizer, cost], feed_dict = {x:np.array(X_train), \n",
    "                                                            y:np.array(y_train_new)})\n",
    "            epoch_loss += c\n",
    "            print '\\r epoch:%d, loss: %3.2f' %(epoch+1, epoch_loss),\n",
    "        \n",
    "        correct = tf.equal(tf.argmax(prediction, 1), tf.argmax(y, 1))\n",
    "        accuracy = tf.reduce_mean(tf.cast(correct, 'float'))\n",
    "        print '\\n Accuracy:', accuracy.eval({x:np.array(X_test),y:np.array(y_test_new)})\n",
    "        \n",
    "training_nn(x)"
   ]
  },
  {
   "cell_type": "markdown",
   "metadata": {},
   "source": [
    "### - Neural Networks (Self written) with 3 layers"
   ]
  },
  {
   "cell_type": "markdown",
   "metadata": {},
   "source": [
    "The learning rate is a crutial point in our algorithm. It does not createvery good results when the learning rate is too big."
   ]
  },
  {
   "cell_type": "markdown",
   "metadata": {},
   "source": []
  },
  {
   "cell_type": "markdown",
   "metadata": {},
   "source": [
    "### -TensorFlow with all in box calculations"
   ]
  },
  {
   "cell_type": "code",
   "execution_count": 6,
   "metadata": {},
   "outputs": [
    {
     "name": "stdout",
     "output_type": "stream",
     "text": [
      "Epoch 1/20\n",
      "4050/4050 [==============================] - 1s 177us/step - loss: 1.0194 - acc: 0.5956\n",
      "Epoch 2/20\n",
      "4050/4050 [==============================] - 1s 137us/step - loss: 0.6349 - acc: 0.6575\n",
      "Epoch 3/20\n",
      "4050/4050 [==============================] - 0s 123us/step - loss: 0.5104 - acc: 0.7227\n",
      "Epoch 4/20\n",
      "4050/4050 [==============================] - 1s 140us/step - loss: 0.4494 - acc: 0.7691\n",
      "Epoch 5/20\n",
      "4050/4050 [==============================] - 1s 127us/step - loss: 0.4056 - acc: 0.7889\n",
      "Epoch 6/20\n",
      "4050/4050 [==============================] - 0s 109us/step - loss: 0.4435 - acc: 0.7751\n",
      "Epoch 7/20\n",
      "4050/4050 [==============================] - 0s 120us/step - loss: 0.3457 - acc: 0.8291\n",
      "Epoch 8/20\n",
      "4050/4050 [==============================] - 1s 134us/step - loss: 0.3480 - acc: 0.8286\n",
      "Epoch 9/20\n",
      "4050/4050 [==============================] - 0s 109us/step - loss: 0.3056 - acc: 0.8474\n",
      "Epoch 10/20\n",
      "4050/4050 [==============================] - 1s 128us/step - loss: 0.3207 - acc: 0.8319\n",
      "Epoch 11/20\n",
      "4050/4050 [==============================] - 0s 118us/step - loss: 0.2697 - acc: 0.8640\n",
      "Epoch 12/20\n",
      "4050/4050 [==============================] - 0s 112us/step - loss: 0.2446 - acc: 0.8748\n",
      "Epoch 13/20\n",
      "4050/4050 [==============================] - 0s 112us/step - loss: 0.2339 - acc: 0.8751\n",
      "Epoch 14/20\n",
      "4050/4050 [==============================] - 0s 110us/step - loss: 0.1879 - acc: 0.9057\n",
      "Epoch 15/20\n",
      "4050/4050 [==============================] - 0s 113us/step - loss: 0.1858 - acc: 0.9156\n",
      "Epoch 16/20\n",
      "4050/4050 [==============================] - 0s 112us/step - loss: 0.1653 - acc: 0.9328\n",
      "Epoch 17/20\n",
      "4050/4050 [==============================] - 0s 112us/step - loss: 0.1780 - acc: 0.9277\n",
      "Epoch 18/20\n",
      "4050/4050 [==============================] - 1s 137us/step - loss: 0.1361 - acc: 0.9640\n",
      "Epoch 19/20\n",
      "4050/4050 [==============================] - 1s 134us/step - loss: 0.1147 - acc: 0.9805\n",
      "Epoch 20/20\n",
      "4050/4050 [==============================] - 0s 111us/step - loss: 0.1534 - acc: 0.9447\n"
     ]
    },
    {
     "data": {
      "text/plain": [
       "<tensorflow.python.keras.callbacks.History at 0x1a2bcffb90>"
      ]
     },
     "execution_count": 6,
     "metadata": {},
     "output_type": "execute_result"
    }
   ],
   "source": [
    "from tensorflow import keras\n",
    "\n",
    "model = keras.Sequential([\n",
    "    #keras.layers.Flatten(input_shape = (1, 3)),\n",
    "    keras.layers.Dense(512, activation = tf.nn.relu),\n",
    "    keras.layers.Dense(512, activation = tf.nn.relu),\n",
    "    keras.layers.Dense(512, activation = tf.nn.relu),\n",
    "    keras.layers.Dense(5, activation = tf.nn.softmax)\n",
    "])\n",
    "\n",
    "\n",
    "model.compile(optimizer=tf.train.AdamOptimizer(learning_rate = .0001), \n",
    "              loss='sparse_categorical_crossentropy',\n",
    "              metrics=['accuracy'])\n",
    "\n",
    "model.fit(np.array(X_train), np.array(y_train), epochs = 20)"
   ]
  },
  {
   "cell_type": "code",
   "execution_count": 7,
   "metadata": {},
   "outputs": [
    {
     "name": "stdout",
     "output_type": "stream",
     "text": [
      "450/450 [==============================] - 0s 213us/step\n",
      "('Test accuracy:', 1.0)\n"
     ]
    }
   ],
   "source": [
    "test_loss, test_acc = model.evaluate(np.array(X_test), np.array(y_test))\n",
    "\n",
    "print('Test accuracy:', test_acc)"
   ]
  },
  {
   "cell_type": "markdown",
   "metadata": {},
   "source": [
    "### Whole distribution for classification"
   ]
  },
  {
   "cell_type": "code",
   "execution_count": 8,
   "metadata": {},
   "outputs": [],
   "source": [
    "Data = np.load('Distributions.npy')\n",
    "Labels = Data[:, -1]\n",
    "X = Data[:, :-1]\n",
    "TrainDistribution, TestDistribution, TrainLabels, TestLabels = train_test_split(X, Labels,\n",
    "                                                                               test_size = .1, random_state = 0)"
   ]
  },
  {
   "cell_type": "code",
   "execution_count": 9,
   "metadata": {},
   "outputs": [
    {
     "name": "stdout",
     "output_type": "stream",
     "text": [
      "Epoch 1/20\n",
      "4050/4050 [==============================] - 1s 176us/step - loss: 0.9436 - acc: 0.5746\n",
      "Epoch 2/20\n",
      "4050/4050 [==============================] - 1s 137us/step - loss: 0.6776 - acc: 0.6553\n",
      "Epoch 3/20\n",
      "4050/4050 [==============================] - 1s 137us/step - loss: 0.5472 - acc: 0.7052\n",
      "Epoch 4/20\n",
      "4050/4050 [==============================] - 0s 115us/step - loss: 0.4641 - acc: 0.7575\n",
      "Epoch 5/20\n",
      "4050/4050 [==============================] - 0s 112us/step - loss: 0.4489 - acc: 0.7602\n",
      "Epoch 6/20\n",
      "4050/4050 [==============================] - 0s 112us/step - loss: 0.3985 - acc: 0.7980\n",
      "Epoch 7/20\n",
      "4050/4050 [==============================] - 0s 112us/step - loss: 0.3662 - acc: 0.8240\n",
      "Epoch 8/20\n",
      "4050/4050 [==============================] - 0s 115us/step - loss: 0.3447 - acc: 0.8326\n",
      "Epoch 9/20\n",
      "4050/4050 [==============================] - 1s 125us/step - loss: 0.3309 - acc: 0.8289\n",
      "Epoch 10/20\n",
      "4050/4050 [==============================] - 1s 129us/step - loss: 0.2902 - acc: 0.8543\n",
      "Epoch 11/20\n",
      "4050/4050 [==============================] - 0s 115us/step - loss: 0.3039 - acc: 0.8543\n",
      "Epoch 12/20\n",
      "4050/4050 [==============================] - 1s 132us/step - loss: 0.2643 - acc: 0.8716\n",
      "Epoch 13/20\n",
      "4050/4050 [==============================] - 0s 115us/step - loss: 0.2309 - acc: 0.8919\n",
      "Epoch 14/20\n",
      "4050/4050 [==============================] - 1s 135us/step - loss: 0.2023 - acc: 0.9106\n",
      "Epoch 15/20\n",
      "4050/4050 [==============================] - 1s 125us/step - loss: 0.1869 - acc: 0.9247\n",
      "Epoch 16/20\n",
      "4050/4050 [==============================] - 0s 123us/step - loss: 0.1684 - acc: 0.9400\n",
      "Epoch 17/20\n",
      "4050/4050 [==============================] - 0s 118us/step - loss: 0.1733 - acc: 0.9338\n",
      "Epoch 18/20\n",
      "4050/4050 [==============================] - 0s 114us/step - loss: 0.1267 - acc: 0.9770\n",
      "Epoch 19/20\n",
      "4050/4050 [==============================] - 0s 114us/step - loss: 0.1111 - acc: 0.9842\n",
      "Epoch 20/20\n",
      "4050/4050 [==============================] - 0s 115us/step - loss: 0.1376 - acc: 0.9598\n"
     ]
    },
    {
     "data": {
      "text/plain": [
       "<tensorflow.python.keras.callbacks.History at 0x1a31a8d890>"
      ]
     },
     "execution_count": 9,
     "metadata": {},
     "output_type": "execute_result"
    }
   ],
   "source": [
    "dist_model = keras.Sequential([\n",
    "    #keras.layers.Flatten(input_shape = (1, 3)),\n",
    "    keras.layers.Dense(512, activation = tf.nn.relu),\n",
    "    keras.layers.Dense(512, activation = tf.nn.relu),\n",
    "    keras.layers.Dense(512, activation = tf.nn.relu),\n",
    "    keras.layers.Dense(5, activation = tf.nn.softmax)\n",
    "])\n",
    "\n",
    "\n",
    "dist_model.compile(optimizer=tf.train.AdamOptimizer(learning_rate = .0001), \n",
    "              loss='sparse_categorical_crossentropy',\n",
    "              metrics=['accuracy'])\n",
    "\n",
    "dist_model.fit(np.array(X_train), np.array(y_train), epochs = 20)"
   ]
  },
  {
   "cell_type": "code",
   "execution_count": 10,
   "metadata": {},
   "outputs": [
    {
     "name": "stdout",
     "output_type": "stream",
     "text": [
      "450/450 [==============================] - 0s 231us/step\n",
      "('Test accuracy:', 1.0)\n"
     ]
    }
   ],
   "source": [
    "test_loss, test_acc = dist_model.evaluate(np.array(X_test), np.array(y_test))\n",
    "\n",
    "print('Test accuracy:', test_acc)"
   ]
  },
  {
   "cell_type": "code",
   "execution_count": null,
   "metadata": {},
   "outputs": [],
   "source": []
  }
 ],
 "metadata": {
  "kernelspec": {
   "display_name": "Python 2",
   "language": "python",
   "name": "python2"
  },
  "language_info": {
   "codemirror_mode": {
    "name": "ipython",
    "version": 2
   },
   "file_extension": ".py",
   "mimetype": "text/x-python",
   "name": "python",
   "nbconvert_exporter": "python",
   "pygments_lexer": "ipython2",
   "version": "2.7.15"
  }
 },
 "nbformat": 4,
 "nbformat_minor": 2
}
